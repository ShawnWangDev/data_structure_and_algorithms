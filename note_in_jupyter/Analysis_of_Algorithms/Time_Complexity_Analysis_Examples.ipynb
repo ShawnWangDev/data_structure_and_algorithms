{
 "cells": [
  {
   "cell_type": "markdown",
   "id": "dbe451ad-cda3-43e2-9e90-84e58ae96090",
   "metadata": {},
   "source": [
    "# Time Complexity Analysis Examples"
   ]
  },
  {
   "cell_type": "markdown",
   "id": "1dff22b1-10e1-48e3-a021-802d47d3b8b7",
   "metadata": {},
   "source": [
    "NUPT 2018 1.2\n",
    "\n",
    "analysis the time complexity of this code\n",
    "\n",
    "```C\n",
    "void func(int n) {\n",
    "    int i = 0;\n",
    "    int s = 0;\n",
    "    while (s <= n) {\n",
    "        i++;\n",
    "        s = s + i;\n",
    "    }\n",
    "}\n",
    "```"
   ]
  },
  {
   "cell_type": "markdown",
   "id": "ef45861a-2aa5-4106-94ef-dcf05511191e",
   "metadata": {},
   "source": [
    "To find the time complexity, let's determine the number of iterations the loop will perform.\n",
    "\n",
    "The loop stops when `s > n`.\n",
    "\n",
    "So, the loop will continue until the sum of the first k positive integers exceeds n: $1 + 2 + 3 + \\ldots + k > n.$\n",
    "\n",
    "The sum of the first k positive integers is given by the formula $S_k = \\frac{k \\cdot (k + 1)}{2}$\n",
    "\n",
    "Solving for `k` in the inequality `S_k > n`, we get: $\\frac{k \\cdot (k + 1)}{2} > n$\n",
    "\n",
    "This is a quadratic inequality, and solving it might involve some algebraic manipulation. \n",
    "\n",
    "However, for the purpose of analyzing time complexity, we can simplify it by dropping constant factors and lower-order terms.\n",
    "\n",
    "The time complexity of the provided code is then $ O(\\sqrt{n}) $, where `n` is the input to the function.\n",
    "\n",
    "Furthermore, precisely calculate the quadratic inequality, we get $k>\\sqrt{2n+\\frac{1}{4}}-\\frac{1}{2}$\n",
    "\n",
    "Now apply it to Python code:"
   ]
  },
  {
   "cell_type": "code",
   "execution_count": 14,
   "id": "2d6a9424-c222-43d4-9e3b-2e103ef19947",
   "metadata": {},
   "outputs": [
    {
     "name": "stdout",
     "output_type": "stream",
     "text": [
      "\n",
      "precise time complexity: 2.7015621187164243\n",
      "i=0, s=0\ti=1, s=1\ti=2, s=3\t\n",
      "precise time complexity: 8.0\n",
      "i=0, s=0\ti=1, s=1\ti=2, s=3\ti=3, s=6\ti=4, s=10\ti=5, s=15\ti=6, s=21\ti=7, s=28\ti=8, s=36\t\n",
      "precise time complexity: 140.92224011802386\n",
      "i=0, s=0\ti=1, s=1\ti=2, s=3\ti=3, s=6\ti=4, s=10\ti=5, s=15\ti=6, s=21\ti=7, s=28\ti=8, s=36\ti=9, s=45\ti=10, s=55\ti=11, s=66\ti=12, s=78\ti=13, s=91\ti=14, s=105\ti=15, s=120\ti=16, s=136\ti=17, s=153\ti=18, s=171\ti=19, s=190\ti=20, s=210\ti=21, s=231\ti=22, s=253\ti=23, s=276\ti=24, s=300\ti=25, s=325\ti=26, s=351\ti=27, s=378\ti=28, s=406\ti=29, s=435\ti=30, s=465\ti=31, s=496\ti=32, s=528\ti=33, s=561\ti=34, s=595\ti=35, s=630\ti=36, s=666\ti=37, s=703\ti=38, s=741\ti=39, s=780\ti=40, s=820\ti=41, s=861\ti=42, s=903\ti=43, s=946\ti=44, s=990\ti=45, s=1035\ti=46, s=1081\ti=47, s=1128\ti=48, s=1176\ti=49, s=1225\ti=50, s=1275\ti=51, s=1326\ti=52, s=1378\ti=53, s=1431\ti=54, s=1485\ti=55, s=1540\ti=56, s=1596\ti=57, s=1653\ti=58, s=1711\ti=59, s=1770\ti=60, s=1830\ti=61, s=1891\ti=62, s=1953\ti=63, s=2016\ti=64, s=2080\ti=65, s=2145\ti=66, s=2211\ti=67, s=2278\ti=68, s=2346\ti=69, s=2415\ti=70, s=2485\ti=71, s=2556\ti=72, s=2628\ti=73, s=2701\ti=74, s=2775\ti=75, s=2850\ti=76, s=2926\ti=77, s=3003\ti=78, s=3081\ti=79, s=3160\ti=80, s=3240\ti=81, s=3321\ti=82, s=3403\ti=83, s=3486\ti=84, s=3570\ti=85, s=3655\ti=86, s=3741\ti=87, s=3828\ti=88, s=3916\ti=89, s=4005\ti=90, s=4095\ti=91, s=4186\ti=92, s=4278\ti=93, s=4371\ti=94, s=4465\ti=95, s=4560\ti=96, s=4656\ti=97, s=4753\ti=98, s=4851\ti=99, s=4950\ti=100, s=5050\ti=101, s=5151\ti=102, s=5253\ti=103, s=5356\ti=104, s=5460\ti=105, s=5565\ti=106, s=5671\ti=107, s=5778\ti=108, s=5886\ti=109, s=5995\ti=110, s=6105\ti=111, s=6216\ti=112, s=6328\ti=113, s=6441\ti=114, s=6555\ti=115, s=6670\ti=116, s=6786\ti=117, s=6903\ti=118, s=7021\ti=119, s=7140\ti=120, s=7260\ti=121, s=7381\ti=122, s=7503\ti=123, s=7626\ti=124, s=7750\ti=125, s=7875\ti=126, s=8001\ti=127, s=8128\ti=128, s=8256\ti=129, s=8385\ti=130, s=8515\ti=131, s=8646\ti=132, s=8778\ti=133, s=8911\ti=134, s=9045\ti=135, s=9180\ti=136, s=9316\ti=137, s=9453\ti=138, s=9591\ti=139, s=9730\ti=140, s=9870\t"
     ]
    }
   ],
   "source": [
    "from math import sqrt\n",
    "\n",
    "\n",
    "def nupt_2018(n):\n",
    "    i = 0\n",
    "    s = 0\n",
    "    while s <= n:\n",
    "        print(f'i={i}, s={s}',end='\\t')\n",
    "        i = i + 1\n",
    "        s = s + i\n",
    "\n",
    "\n",
    "def calc_precise_formula(n):\n",
    "    return sqrt(2 * n + 0.25) - 0.5\n",
    "\n",
    "\n",
    "if __name__ == '__main__':\n",
    "    n_list = [5,36,10000]\n",
    "    for n in n_list:\n",
    "        print(f'precise time complexity: {calc_precise_formula(n)}')\n",
    "        nupt_2018(n)\n"
   ]
  },
  {
   "cell_type": "markdown",
   "id": "16318334-b65b-43c1-b0a7-61c7253bb8f6",
   "metadata": {},
   "source": [
    "Addition code: find a number `n` that is perfect square and the result of math.sqrt(2*`n`+0.25)-0.5 is a integer number"
   ]
  },
  {
   "cell_type": "code",
   "execution_count": null,
   "id": "7f58b4ec-621c-4583-9168-6daa239eb749",
   "metadata": {},
   "outputs": [],
   "source": [
    "from math import sqrt, ceil\n",
    "import time\n",
    "\n",
    "\n",
    "def func(n):\n",
    "    if sqrt(n) == ceil(sqrt(n)):\n",
    "        res = sqrt(2 * n + 0.25) - 0.5\n",
    "        if int(ceil(res) == int(res)):\n",
    "            print(n)\n",
    "\n",
    "\n",
    "start_time = time.time()\n",
    "for i in range(1000000, 10000000):\n",
    "    func(i)\n",
    "end_time = time.time()\n",
    "print(f'running time: {end_time - start_time}')\n"
   ]
  }
 ],
 "metadata": {
  "kernelspec": {
   "display_name": "Python 3 (ipykernel)",
   "language": "python",
   "name": "python3"
  },
  "language_info": {
   "codemirror_mode": {
    "name": "ipython",
    "version": 3
   },
   "file_extension": ".py",
   "mimetype": "text/x-python",
   "name": "python",
   "nbconvert_exporter": "python",
   "pygments_lexer": "ipython3",
   "version": "3.11.6"
  }
 },
 "nbformat": 4,
 "nbformat_minor": 5
}
